{
 "cells": [
  {
   "cell_type": "markdown",
   "id": "b206124a",
   "metadata": {},
   "source": [
    "## An analysis on what factors can indicate whether someone is suffering from heart disease"
   ]
  },
  {
   "cell_type": "markdown",
   "id": "19acd8b3",
   "metadata": {},
   "source": [
    "import statements"
   ]
  },
  {
   "cell_type": "code",
   "execution_count": 2,
   "id": "f5767cf9",
   "metadata": {},
   "outputs": [],
   "source": [
    "import pandas as pd\n",
    "import numpy as np \n",
    "import matplotlib.pyplot as plt\n",
    "import seaborn as sns\n",
    "from sklearn.cluster import KMeans as clustering"
   ]
  },
  {
   "cell_type": "code",
   "execution_count": 3,
   "id": "f35746ab",
   "metadata": {},
   "outputs": [],
   "source": [
    "df = pd.read_csv(\"/users/kunalkapur/Downloads/heart.csv\")"
   ]
  },
  {
   "cell_type": "markdown",
   "id": "d197ab7b",
   "metadata": {},
   "source": [
    "Data frame is 303 rows with 14 columms "
   ]
  },
  {
   "cell_type": "code",
   "execution_count": 4,
   "id": "3b05e2c7",
   "metadata": {},
   "outputs": [
    {
     "data": {
      "text/plain": [
       "(303, 14)"
      ]
     },
     "execution_count": 4,
     "metadata": {},
     "output_type": "execute_result"
    }
   ],
   "source": [
    "df.shape"
   ]
  },
  {
   "cell_type": "code",
   "execution_count": 5,
   "id": "937bd4bf",
   "metadata": {},
   "outputs": [
    {
     "data": {
      "text/html": [
       "<div>\n",
       "<style scoped>\n",
       "    .dataframe tbody tr th:only-of-type {\n",
       "        vertical-align: middle;\n",
       "    }\n",
       "\n",
       "    .dataframe tbody tr th {\n",
       "        vertical-align: top;\n",
       "    }\n",
       "\n",
       "    .dataframe thead th {\n",
       "        text-align: right;\n",
       "    }\n",
       "</style>\n",
       "<table border=\"1\" class=\"dataframe\">\n",
       "  <thead>\n",
       "    <tr style=\"text-align: right;\">\n",
       "      <th></th>\n",
       "      <th>age</th>\n",
       "      <th>sex</th>\n",
       "      <th>cp</th>\n",
       "      <th>trestbps</th>\n",
       "      <th>chol</th>\n",
       "      <th>fbs</th>\n",
       "      <th>restecg</th>\n",
       "      <th>thalach</th>\n",
       "      <th>exang</th>\n",
       "      <th>oldpeak</th>\n",
       "      <th>slope</th>\n",
       "      <th>ca</th>\n",
       "      <th>thal</th>\n",
       "      <th>target</th>\n",
       "    </tr>\n",
       "  </thead>\n",
       "  <tbody>\n",
       "    <tr>\n",
       "      <th>0</th>\n",
       "      <td>63</td>\n",
       "      <td>1</td>\n",
       "      <td>3</td>\n",
       "      <td>145</td>\n",
       "      <td>233</td>\n",
       "      <td>1</td>\n",
       "      <td>0</td>\n",
       "      <td>150</td>\n",
       "      <td>0</td>\n",
       "      <td>2.3</td>\n",
       "      <td>0</td>\n",
       "      <td>0</td>\n",
       "      <td>1</td>\n",
       "      <td>1</td>\n",
       "    </tr>\n",
       "    <tr>\n",
       "      <th>1</th>\n",
       "      <td>37</td>\n",
       "      <td>1</td>\n",
       "      <td>2</td>\n",
       "      <td>130</td>\n",
       "      <td>250</td>\n",
       "      <td>0</td>\n",
       "      <td>1</td>\n",
       "      <td>187</td>\n",
       "      <td>0</td>\n",
       "      <td>3.5</td>\n",
       "      <td>0</td>\n",
       "      <td>0</td>\n",
       "      <td>2</td>\n",
       "      <td>1</td>\n",
       "    </tr>\n",
       "    <tr>\n",
       "      <th>2</th>\n",
       "      <td>41</td>\n",
       "      <td>0</td>\n",
       "      <td>1</td>\n",
       "      <td>130</td>\n",
       "      <td>204</td>\n",
       "      <td>0</td>\n",
       "      <td>0</td>\n",
       "      <td>172</td>\n",
       "      <td>0</td>\n",
       "      <td>1.4</td>\n",
       "      <td>2</td>\n",
       "      <td>0</td>\n",
       "      <td>2</td>\n",
       "      <td>1</td>\n",
       "    </tr>\n",
       "    <tr>\n",
       "      <th>3</th>\n",
       "      <td>56</td>\n",
       "      <td>1</td>\n",
       "      <td>1</td>\n",
       "      <td>120</td>\n",
       "      <td>236</td>\n",
       "      <td>0</td>\n",
       "      <td>1</td>\n",
       "      <td>178</td>\n",
       "      <td>0</td>\n",
       "      <td>0.8</td>\n",
       "      <td>2</td>\n",
       "      <td>0</td>\n",
       "      <td>2</td>\n",
       "      <td>1</td>\n",
       "    </tr>\n",
       "    <tr>\n",
       "      <th>4</th>\n",
       "      <td>57</td>\n",
       "      <td>0</td>\n",
       "      <td>0</td>\n",
       "      <td>120</td>\n",
       "      <td>354</td>\n",
       "      <td>0</td>\n",
       "      <td>1</td>\n",
       "      <td>163</td>\n",
       "      <td>1</td>\n",
       "      <td>0.6</td>\n",
       "      <td>2</td>\n",
       "      <td>0</td>\n",
       "      <td>2</td>\n",
       "      <td>1</td>\n",
       "    </tr>\n",
       "  </tbody>\n",
       "</table>\n",
       "</div>"
      ],
      "text/plain": [
       "   age  sex  cp  trestbps  chol  fbs  restecg  thalach  exang  oldpeak  slope  \\\n",
       "0   63    1   3       145   233    1        0      150      0      2.3      0   \n",
       "1   37    1   2       130   250    0        1      187      0      3.5      0   \n",
       "2   41    0   1       130   204    0        0      172      0      1.4      2   \n",
       "3   56    1   1       120   236    0        1      178      0      0.8      2   \n",
       "4   57    0   0       120   354    0        1      163      1      0.6      2   \n",
       "\n",
       "   ca  thal  target  \n",
       "0   0     1       1  \n",
       "1   0     2       1  \n",
       "2   0     2       1  \n",
       "3   0     2       1  \n",
       "4   0     2       1  "
      ]
     },
     "execution_count": 5,
     "metadata": {},
     "output_type": "execute_result"
    }
   ],
   "source": [
    "df.head()"
   ]
  },
  {
   "cell_type": "markdown",
   "id": "f7034d13",
   "metadata": {},
   "source": [
    "   ## Analyzing  givens"
   ]
  },
  {
   "cell_type": "code",
   "execution_count": 6,
   "id": "1f8cc096",
   "metadata": {},
   "outputs": [
    {
     "data": {
      "text/plain": [
       "Text(0.5, 1.0, 'Age Distribution ')"
      ]
     },
     "execution_count": 6,
     "metadata": {},
     "output_type": "execute_result"
    },
    {
     "data": {
      "image/png": "[encoded data removed]",
      "text/plain": [
       "<Figure size 432x288 with 1 Axes>"
      ]
     },
     "metadata": {},
     "output_type": "display_data"
    }
   ],
   "source": [
    "sns.set_style(\"darkgrid\")\n",
    "sns.histplot(df['age'],bins=20,color='indigo')\n",
    "\n",
    "plt.xlabel('Age')\n",
    "plt.ylabel('Age frequency')\n",
    "plt.title(\"Age Distribution \")"
   ]
  },
  {
   "cell_type": "markdown",
   "id": "79d6ca6c",
   "metadata": {},
   "source": [
    "The given histogram shows roughly a normal disrtubtion with a mean centered around 56. Let's analayze how the amount of men with heart conditions compare to females "
   ]
  },
  {
   "cell_type": "code",
   "execution_count": 7,
   "id": "0ecc316d",
   "metadata": {},
   "outputs": [
    {
     "name": "stdout",
     "output_type": "stream",
     "text": [
      "Number of women in data set  207\n",
      "Number of men in data set  96\n"
     ]
    }
   ],
   "source": [
    "dfWomen = df[df['sex']==1]\n",
    "dfMen = df[df['sex']==0]\n",
    "\n",
    "print(\"Number of women in data set \", len(dfWomen))\n",
    "print(\"Number of men in data set \", len(dfMen))"
   ]
  },
  {
   "cell_type": "code",
   "execution_count": 8,
   "id": "f6ec3400",
   "metadata": {},
   "outputs": [
    {
     "data": {
      "image/png": "[encoded data removed]",
      "text/plain": [
       "<Figure size 432x288 with 1 Axes>"
      ]
     },
     "metadata": {},
     "output_type": "display_data"
    }
   ],
   "source": [
    "sns.set_style(\"darkgrid\")\n",
    "_ = sns.histplot(dfWomen['age'],bins=20,color='pink')\n",
    "_ = sns.histplot(dfMen['age'],bins=20,color='blue')\n",
    "\n",
    "_ = plt.xlabel('Age')\n",
    "_ = plt.ylabel('Age frequency')\n",
    "_ = plt.title(\"Age Distribution \")\n",
    "plt.show()"
   ]
  },
  {
   "cell_type": "code",
   "execution_count": 9,
   "id": "388aa2fc",
   "metadata": {},
   "outputs": [
    {
     "name": "stdout",
     "output_type": "stream",
     "text": [
      "Women:\n",
      "Mean: 53.75845410628019\n",
      "SD: 8.883802951448502\n",
      "\n",
      "Men:\n",
      "Mean: 55.677083333333336\n",
      "SD: 9.409395966593197\n"
     ]
    }
   ],
   "source": [
    "def printStatInfo(info):\n",
    "    print(\"Mean:\",info['age'].mean())\n",
    "    print(\"SD:\",info['age'].std())\n",
    "    \n",
    "print(\"Women:\")\n",
    "printStatInfo(dfWomen)\n",
    "print()\n",
    "print(\"Men:\")\n",
    "printStatInfo(dfMen)"
   ]
  },
  {
   "cell_type": "markdown",
   "id": "b9cc4403",
   "metadata": {},
   "source": [
    "Though the quantity of women in the data set is lower, the distributions of ages between men and women are roughly the same. This would seem to indicate that gender doesn't have as much of a significant role in predicting whether a patient could be at risk for heart disease "
   ]
  },
  {
   "cell_type": "markdown",
   "id": "d66901c1",
   "metadata": {},
   "source": [
    "## Resting blood pressure and cholesteral"
   ]
  },
  {
   "cell_type": "code",
   "execution_count": 1,
   "id": "33961ae0",
   "metadata": {},
   "outputs": [
    {
     "ename": "NameError",
     "evalue": "name 'plt' is not defined",
     "output_type": "error",
     "traceback": [
      "\u001b[0;31m---------------------------------------------------------------------------\u001b[0m",
      "\u001b[0;31mNameError\u001b[0m                                 Traceback (most recent call last)",
      "\u001b[0;32m<ipython-input-1-ee63b587aa3d>\u001b[0m in \u001b[0;36m<module>\u001b[0;34m\u001b[0m\n\u001b[0;32m----> 1\u001b[0;31m \u001b[0msc\u001b[0m \u001b[0;34m=\u001b[0m \u001b[0mplt\u001b[0m\u001b[0;34m.\u001b[0m\u001b[0mscatter\u001b[0m\u001b[0;34m(\u001b[0m\u001b[0mdf\u001b[0m\u001b[0;34m[\u001b[0m\u001b[0;34m'chol'\u001b[0m\u001b[0;34m]\u001b[0m\u001b[0;34m,\u001b[0m\u001b[0mdf\u001b[0m\u001b[0;34m[\u001b[0m\u001b[0;34m'trestbps'\u001b[0m\u001b[0;34m]\u001b[0m\u001b[0;34m)\u001b[0m\u001b[0;34m\u001b[0m\u001b[0;34m\u001b[0m\u001b[0m\n\u001b[0m\u001b[1;32m      2\u001b[0m \u001b[0msc\u001b[0m \u001b[0;34m=\u001b[0m \u001b[0mplt\u001b[0m\u001b[0;34m.\u001b[0m\u001b[0mxlabel\u001b[0m\u001b[0;34m(\u001b[0m\u001b[0;34m\"cholesteral\"\u001b[0m\u001b[0;34m)\u001b[0m\u001b[0;34m\u001b[0m\u001b[0;34m\u001b[0m\u001b[0m\n\u001b[1;32m      3\u001b[0m \u001b[0msc\u001b[0m \u001b[0;34m=\u001b[0m \u001b[0mplt\u001b[0m\u001b[0;34m.\u001b[0m\u001b[0mylabel\u001b[0m\u001b[0;34m(\u001b[0m\u001b[0;34m\"Resting BPM\"\u001b[0m\u001b[0;34m)\u001b[0m\u001b[0;34m\u001b[0m\u001b[0;34m\u001b[0m\u001b[0m\n",
      "\u001b[0;31mNameError\u001b[0m: name 'plt' is not defined"
     ]
    }
   ],
   "source": [
    "sc = plt.scatter(df['chol'],df['trestbps'])\n",
    "sc = plt.xlabel(\"cholesteral\")\n",
    "sc = plt.ylabel(\"Resting BPM\")"
   ]
  },
  {
   "cell_type": "markdown",
   "id": "dfa6c77b",
   "metadata": {},
   "source": [
    "There is some general positive correlation with cholesteral and resting BPM, howeve"
   ]
  },
  {
   "cell_type": "code",
   "execution_count": 11,
   "id": "056a50d2",
   "metadata": {},
   "outputs": [],
   "source": [
    "pains = []\n",
    "for i in range(4):\n",
    "    pains.append(df[df['cp']==i])"
   ]
  },
  {
   "cell_type": "code",
   "execution_count": 12,
   "id": "3101491f",
   "metadata": {},
   "outputs": [
    {
     "data": {
      "image/png": "[encoded data removed]",
      "text/plain": [
       "<Figure size 432x288 with 1 Axes>"
      ]
     },
     "metadata": {},
     "output_type": "display_data"
    }
   ],
   "source": [
    "\n",
    "for i in pains:\n",
    "    sc = sns.scatterplot(x=i['chol'],y=i['trestbps'],label = \"Pain level: \" +str(i['cp'].unique()[0]))\n",
    "    plt.legend()\n",
    "sc = plt.xlabel(\"cholesteral\")\n",
    "sc = plt.ylabel(\"Resting BPM\")\n",
    "plt.show()"
   ]
  },
  {
   "cell_type": "markdown",
   "id": "181c9204",
   "metadata": {},
   "source": [
    "When catagorizing by degree of pain, there seems to be no noticeable clusters for the type of pain someone has within the data. This means that there seems to be no relationship between the cholesteral levels and resting BPM to determine what chest pain someone may have"
   ]
  },
  {
   "cell_type": "code",
   "execution_count": 35,
   "id": "b27b1b75",
   "metadata": {},
   "outputs": [
    {
     "data": {
      "text/plain": [
       "<matplotlib.legend.Legend at 0x7fbc59456d30>"
      ]
     },
     "execution_count": 35,
     "metadata": {},
     "output_type": "execute_result"
    },
    {
     "data": {
      "image/png": "[encoded data removed]",
      "text/plain": [
       "<Figure size 432x288 with 1 Axes>"
      ]
     },
     "metadata": {},
     "output_type": "display_data"
    }
   ],
   "source": [
    "affected = df[df['target']==1]\n",
    "unaffected = df[df['target']==0]\n",
    "dis = sns.scatterplot(x=affected['chol'],y=affected['trestbps'],label=\"heart disease\",color='red')\n",
    "dis = sns.scatterplot(x=unaffected['chol'],y=unaffected['trestbps'],label = \"no heart disease\")\n",
    "plt.legend()"
   ]
  },
  {
   "cell_type": "code",
   "execution_count": 42,
   "id": "c834d319",
   "metadata": {},
   "outputs": [
    {
     "data": {
      "text/plain": [
       "<AxesSubplot:xlabel='chol', ylabel='Count'>"
      ]
     },
     "execution_count": 42,
     "metadata": {},
     "output_type": "execute_result"
    },
    {
     "data": {
      "image/png": "[encoded data removed]",
      "text/plain": [
       "<Figure size 432x288 with 1 Axes>"
      ]
     },
     "metadata": {},
     "output_type": "display_data"
    }
   ],
   "source": [
    "sns.histplot(affected['chol'],bins=20,color='red')\n",
    "sns.histplot(unaffected['chol'],bins=20,color='blue')"
   ]
  },
  {
   "cell_type": "code",
   "execution_count": 43,
   "id": "9e1703f0",
   "metadata": {},
   "outputs": [
    {
     "data": {
      "text/plain": [
       "<AxesSubplot:xlabel='trestbps', ylabel='Count'>"
      ]
     },
     "execution_count": 43,
     "metadata": {},
     "output_type": "execute_result"
    },
    {
     "data": {
      "image/png": "[encoded data removed]",
      "text/plain": [
       "<Figure size 432x288 with 1 Axes>"
      ]
     },
     "metadata": {},
     "output_type": "display_data"
    }
   ],
   "source": [
    "sns.histplot(affected['trestbps'],bins=20,color='red')\n",
    "sns.histplot(unaffected['trestbps'],bins=20,color='blue')"
   ]
  },
  {
   "cell_type": "markdown",
   "id": "ed1d7456",
   "metadata": {},
   "source": [
    "Additionally, this scatter plot goes to show that there seems to be no speicfic grouping when it comes to comparing cholesteral and maximum heart rate in grouping patients who have heart disease"
   ]
  },
  {
   "cell_type": "markdown",
   "id": "fe93c8d4",
   "metadata": {},
   "source": [
    "## Clustering "
   ]
  },
  {
   "cell_type": "markdown",
   "id": "4a861e2f",
   "metadata": {},
   "source": [
    "Using k-means clustering isn't the best at grouping when it comes to discrete or catigorical variables as there is no such thing as a mean when it comes to grouping them. As a result we will isolate the data that contains only numerical values "
   ]
  },
  {
   "cell_type": "code",
   "execution_count": 13,
   "id": "09d21374",
   "metadata": {},
   "outputs": [],
   "source": [
    "clustering_df = pd.DataFrame()"
   ]
  },
  {
   "cell_type": "code",
   "execution_count": 14,
   "id": "52a2b058",
   "metadata": {},
   "outputs": [
    {
     "data": {
      "text/html": [
       "<div>\n",
       "<style scoped>\n",
       "    .dataframe tbody tr th:only-of-type {\n",
       "        vertical-align: middle;\n",
       "    }\n",
       "\n",
       "    .dataframe tbody tr th {\n",
       "        vertical-align: top;\n",
       "    }\n",
       "\n",
       "    .dataframe thead th {\n",
       "        text-align: right;\n",
       "    }\n",
       "</style>\n",
       "<table border=\"1\" class=\"dataframe\">\n",
       "  <thead>\n",
       "    <tr style=\"text-align: right;\">\n",
       "      <th></th>\n",
       "      <th>age</th>\n",
       "      <th>sex</th>\n",
       "      <th>cp</th>\n",
       "      <th>trestbps</th>\n",
       "      <th>chol</th>\n",
       "      <th>fbs</th>\n",
       "      <th>restecg</th>\n",
       "      <th>thalach</th>\n",
       "      <th>exang</th>\n",
       "      <th>oldpeak</th>\n",
       "      <th>slope</th>\n",
       "      <th>ca</th>\n",
       "      <th>thal</th>\n",
       "      <th>target</th>\n",
       "    </tr>\n",
       "  </thead>\n",
       "  <tbody>\n",
       "    <tr>\n",
       "      <th>0</th>\n",
       "      <td>63</td>\n",
       "      <td>1</td>\n",
       "      <td>3</td>\n",
       "      <td>145</td>\n",
       "      <td>233</td>\n",
       "      <td>1</td>\n",
       "      <td>0</td>\n",
       "      <td>150</td>\n",
       "      <td>0</td>\n",
       "      <td>2.3</td>\n",
       "      <td>0</td>\n",
       "      <td>0</td>\n",
       "      <td>1</td>\n",
       "      <td>1</td>\n",
       "    </tr>\n",
       "    <tr>\n",
       "      <th>1</th>\n",
       "      <td>37</td>\n",
       "      <td>1</td>\n",
       "      <td>2</td>\n",
       "      <td>130</td>\n",
       "      <td>250</td>\n",
       "      <td>0</td>\n",
       "      <td>1</td>\n",
       "      <td>187</td>\n",
       "      <td>0</td>\n",
       "      <td>3.5</td>\n",
       "      <td>0</td>\n",
       "      <td>0</td>\n",
       "      <td>2</td>\n",
       "      <td>1</td>\n",
       "    </tr>\n",
       "    <tr>\n",
       "      <th>2</th>\n",
       "      <td>41</td>\n",
       "      <td>0</td>\n",
       "      <td>1</td>\n",
       "      <td>130</td>\n",
       "      <td>204</td>\n",
       "      <td>0</td>\n",
       "      <td>0</td>\n",
       "      <td>172</td>\n",
       "      <td>0</td>\n",
       "      <td>1.4</td>\n",
       "      <td>2</td>\n",
       "      <td>0</td>\n",
       "      <td>2</td>\n",
       "      <td>1</td>\n",
       "    </tr>\n",
       "    <tr>\n",
       "      <th>3</th>\n",
       "      <td>56</td>\n",
       "      <td>1</td>\n",
       "      <td>1</td>\n",
       "      <td>120</td>\n",
       "      <td>236</td>\n",
       "      <td>0</td>\n",
       "      <td>1</td>\n",
       "      <td>178</td>\n",
       "      <td>0</td>\n",
       "      <td>0.8</td>\n",
       "      <td>2</td>\n",
       "      <td>0</td>\n",
       "      <td>2</td>\n",
       "      <td>1</td>\n",
       "    </tr>\n",
       "    <tr>\n",
       "      <th>4</th>\n",
       "      <td>57</td>\n",
       "      <td>0</td>\n",
       "      <td>0</td>\n",
       "      <td>120</td>\n",
       "      <td>354</td>\n",
       "      <td>0</td>\n",
       "      <td>1</td>\n",
       "      <td>163</td>\n",
       "      <td>1</td>\n",
       "      <td>0.6</td>\n",
       "      <td>2</td>\n",
       "      <td>0</td>\n",
       "      <td>2</td>\n",
       "      <td>1</td>\n",
       "    </tr>\n",
       "    <tr>\n",
       "      <th>...</th>\n",
       "      <td>...</td>\n",
       "      <td>...</td>\n",
       "      <td>...</td>\n",
       "      <td>...</td>\n",
       "      <td>...</td>\n",
       "      <td>...</td>\n",
       "      <td>...</td>\n",
       "      <td>...</td>\n",
       "      <td>...</td>\n",
       "      <td>...</td>\n",
       "      <td>...</td>\n",
       "      <td>...</td>\n",
       "      <td>...</td>\n",
       "      <td>...</td>\n",
       "    </tr>\n",
       "    <tr>\n",
       "      <th>298</th>\n",
       "      <td>57</td>\n",
       "      <td>0</td>\n",
       "      <td>0</td>\n",
       "      <td>140</td>\n",
       "      <td>241</td>\n",
       "      <td>0</td>\n",
       "      <td>1</td>\n",
       "      <td>123</td>\n",
       "      <td>1</td>\n",
       "      <td>0.2</td>\n",
       "      <td>1</td>\n",
       "      <td>0</td>\n",
       "      <td>3</td>\n",
       "      <td>0</td>\n",
       "    </tr>\n",
       "    <tr>\n",
       "      <th>299</th>\n",
       "      <td>45</td>\n",
       "      <td>1</td>\n",
       "      <td>3</td>\n",
       "      <td>110</td>\n",
       "      <td>264</td>\n",
       "      <td>0</td>\n",
       "      <td>1</td>\n",
       "      <td>132</td>\n",
       "      <td>0</td>\n",
       "      <td>1.2</td>\n",
       "      <td>1</td>\n",
       "      <td>0</td>\n",
       "      <td>3</td>\n",
       "      <td>0</td>\n",
       "    </tr>\n",
       "    <tr>\n",
       "      <th>300</th>\n",
       "      <td>68</td>\n",
       "      <td>1</td>\n",
       "      <td>0</td>\n",
       "      <td>144</td>\n",
       "      <td>193</td>\n",
       "      <td>1</td>\n",
       "      <td>1</td>\n",
       "      <td>141</td>\n",
       "      <td>0</td>\n",
       "      <td>3.4</td>\n",
       "      <td>1</td>\n",
       "      <td>2</td>\n",
       "      <td>3</td>\n",
       "      <td>0</td>\n",
       "    </tr>\n",
       "    <tr>\n",
       "      <th>301</th>\n",
       "      <td>57</td>\n",
       "      <td>1</td>\n",
       "      <td>0</td>\n",
       "      <td>130</td>\n",
       "      <td>131</td>\n",
       "      <td>0</td>\n",
       "      <td>1</td>\n",
       "      <td>115</td>\n",
       "      <td>1</td>\n",
       "      <td>1.2</td>\n",
       "      <td>1</td>\n",
       "      <td>1</td>\n",
       "      <td>3</td>\n",
       "      <td>0</td>\n",
       "    </tr>\n",
       "    <tr>\n",
       "      <th>302</th>\n",
       "      <td>57</td>\n",
       "      <td>0</td>\n",
       "      <td>1</td>\n",
       "      <td>130</td>\n",
       "      <td>236</td>\n",
       "      <td>0</td>\n",
       "      <td>0</td>\n",
       "      <td>174</td>\n",
       "      <td>0</td>\n",
       "      <td>0.0</td>\n",
       "      <td>1</td>\n",
       "      <td>1</td>\n",
       "      <td>2</td>\n",
       "      <td>0</td>\n",
       "    </tr>\n",
       "  </tbody>\n",
       "</table>\n",
       "<p>303 rows × 14 columns</p>\n",
       "</div>"
      ],
      "text/plain": [
       "     age  sex  cp  trestbps  chol  fbs  restecg  thalach  exang  oldpeak  \\\n",
       "0     63    1   3       145   233    1        0      150      0      2.3   \n",
       "1     37    1   2       130   250    0        1      187      0      3.5   \n",
       "2     41    0   1       130   204    0        0      172      0      1.4   \n",
       "3     56    1   1       120   236    0        1      178      0      0.8   \n",
       "4     57    0   0       120   354    0        1      163      1      0.6   \n",
       "..   ...  ...  ..       ...   ...  ...      ...      ...    ...      ...   \n",
       "298   57    0   0       140   241    0        1      123      1      0.2   \n",
       "299   45    1   3       110   264    0        1      132      0      1.2   \n",
       "300   68    1   0       144   193    1        1      141      0      3.4   \n",
       "301   57    1   0       130   131    0        1      115      1      1.2   \n",
       "302   57    0   1       130   236    0        0      174      0      0.0   \n",
       "\n",
       "     slope  ca  thal  target  \n",
       "0        0   0     1       1  \n",
       "1        0   0     2       1  \n",
       "2        2   0     2       1  \n",
       "3        2   0     2       1  \n",
       "4        2   0     2       1  \n",
       "..     ...  ..   ...     ...  \n",
       "298      1   0     3       0  \n",
       "299      1   0     3       0  \n",
       "300      1   2     3       0  \n",
       "301      1   1     3       0  \n",
       "302      1   1     2       0  \n",
       "\n",
       "[303 rows x 14 columns]"
      ]
     },
     "execution_count": 14,
     "metadata": {},
     "output_type": "execute_result"
    }
   ],
   "source": [
    "df\n"
   ]
  },
  {
   "cell_type": "code",
   "execution_count": 15,
   "id": "58cf3e86",
   "metadata": {},
   "outputs": [
    {
     "data": {
      "text/plain": [
       "Index(['age', 'sex', 'cp', 'trestbps', 'chol', 'fbs', 'restecg', 'thalach',\n",
       "       'exang', 'oldpeak', 'slope', 'ca', 'thal', 'target'],\n",
       "      dtype='object')"
      ]
     },
     "execution_count": 15,
     "metadata": {},
     "output_type": "execute_result"
    }
   ],
   "source": [
    "df.keys()"
   ]
  },
  {
   "cell_type": "code",
   "execution_count": 16,
   "id": "e4409fa9",
   "metadata": {},
   "outputs": [],
   "source": [
    "desired = ['chol','trestbps',]"
   ]
  },
  {
   "cell_type": "code",
   "execution_count": 17,
   "id": "75c3cb4c",
   "metadata": {},
   "outputs": [],
   "source": [
    "clustering_df = df[desired]"
   ]
  },
  {
   "cell_type": "code",
   "execution_count": 18,
   "id": "d9146ec9",
   "metadata": {},
   "outputs": [
    {
     "data": {
      "text/html": [
       "<div>\n",
       "<style scoped>\n",
       "    .dataframe tbody tr th:only-of-type {\n",
       "        vertical-align: middle;\n",
       "    }\n",
       "\n",
       "    .dataframe tbody tr th {\n",
       "        vertical-align: top;\n",
       "    }\n",
       "\n",
       "    .dataframe thead th {\n",
       "        text-align: right;\n",
       "    }\n",
       "</style>\n",
       "<table border=\"1\" class=\"dataframe\">\n",
       "  <thead>\n",
       "    <tr style=\"text-align: right;\">\n",
       "      <th></th>\n",
       "      <th>chol</th>\n",
       "      <th>trestbps</th>\n",
       "    </tr>\n",
       "  </thead>\n",
       "  <tbody>\n",
       "    <tr>\n",
       "      <th>0</th>\n",
       "      <td>233</td>\n",
       "      <td>145</td>\n",
       "    </tr>\n",
       "    <tr>\n",
       "      <th>1</th>\n",
       "      <td>250</td>\n",
       "      <td>130</td>\n",
       "    </tr>\n",
       "    <tr>\n",
       "      <th>2</th>\n",
       "      <td>204</td>\n",
       "      <td>130</td>\n",
       "    </tr>\n",
       "    <tr>\n",
       "      <th>3</th>\n",
       "      <td>236</td>\n",
       "      <td>120</td>\n",
       "    </tr>\n",
       "    <tr>\n",
       "      <th>4</th>\n",
       "      <td>354</td>\n",
       "      <td>120</td>\n",
       "    </tr>\n",
       "  </tbody>\n",
       "</table>\n",
       "</div>"
      ],
      "text/plain": [
       "   chol  trestbps\n",
       "0   233       145\n",
       "1   250       130\n",
       "2   204       130\n",
       "3   236       120\n",
       "4   354       120"
      ]
     },
     "execution_count": 18,
     "metadata": {},
     "output_type": "execute_result"
    }
   ],
   "source": [
    "clustering_df.head()"
   ]
  },
  {
   "cell_type": "code",
   "execution_count": 19,
   "id": "248a2ff0",
   "metadata": {},
   "outputs": [
    {
     "data": {
      "text/plain": [
       "Text(0, 0.5, 'Inertia')"
      ]
     },
     "execution_count": 19,
     "metadata": {},
     "output_type": "execute_result"
    },
    {
     "data": {
      "image/png": "[encoded data removed]",
      "text/plain": [
       "<Figure size 432x288 with 1 Axes>"
      ]
     },
     "metadata": {},
     "output_type": "display_data"
    }
   ],
   "source": [
    "inertia  = []\n",
    "for i in range(3,15):\n",
    "    kmeans = clustering(n_clusters=i, random_state=0)\n",
    "    kmeans.fit(clustering_df)\n",
    "    inertia.append(kmeans.inertia_)\n",
    "kmeans_df = pd.DataFrame(inertia,range(3,15))\n",
    "sns.lineplot(data = kmeans_df,markers=True)\n",
    "plt.xlabel(\"Clusters\")\n",
    "plt.ylabel(\"Inertia\")\n"
   ]
  },
  {
   "cell_type": "markdown",
   "id": "1feedbf6",
   "metadata": {},
   "source": [
    "The inertia represents the sum of the square distances of each data point to their coressponding cluster. Using the elbow method we will try to identify which value of n (where n=the number of clusters) best represents the data, and in this case that value seems to be 8"
   ]
  },
  {
   "cell_type": "code",
   "execution_count": 20,
   "id": "835fb369",
   "metadata": {},
   "outputs": [
    {
     "data": {
      "text/plain": [
       "array([2, 0, 1, 0, 7, 5, 6, 0, 2, 5, 2, 0, 0, 1, 6, 1, 7, 2, 2, 2, 2, 2,\n",
       "       2, 2, 1, 6, 2, 5, 4, 1, 1, 5, 1, 0, 1, 5, 7, 2, 6, 4, 7, 0, 1, 0,\n",
       "       7, 7, 2, 0, 1, 2, 0, 7, 2, 5, 0, 1, 1, 0, 5, 7, 0, 7, 5, 1, 1, 5,\n",
       "       1, 2, 1, 1, 0, 1, 1, 0, 1, 0, 0, 2, 1, 0, 0, 7, 7, 6, 0, 3, 0, 1,\n",
       "       1, 0, 0, 1, 2, 7, 5, 2, 4, 1, 7, 0, 2, 6, 1, 0, 1, 1, 2, 2, 0, 0,\n",
       "       6, 5, 7, 1, 0, 1, 1, 1, 1, 2, 7, 0, 0, 0, 1, 1, 1, 6, 1, 0, 2, 0,\n",
       "       7, 1, 7, 0, 5, 1, 1, 0, 7, 7, 1, 1, 1, 2, 0, 2, 1, 5, 2, 5, 2, 6,\n",
       "       2, 1, 0, 1, 1, 1, 0, 7, 5, 5, 5, 6, 1, 0, 0, 1, 0, 1, 0, 2, 1, 5,\n",
       "       1, 7, 5, 6, 7, 2, 7, 1, 2, 7, 0, 0, 2, 5, 7, 1, 5, 6, 5, 6, 2, 0,\n",
       "       0, 0, 1, 0, 6, 6, 5, 0, 0, 0, 5, 5, 2, 0, 1, 7, 0, 7, 0, 7, 0, 0,\n",
       "       4, 2, 6, 6, 0, 5, 0, 1, 6, 7, 0, 6, 6, 0, 7, 7, 7, 6, 7, 0, 6, 2,\n",
       "       2, 6, 5, 0, 4, 2, 6, 0, 7, 0, 7, 7, 6, 7, 0, 1, 2, 1, 2, 1, 0, 0,\n",
       "       1, 1, 6, 5, 0, 0, 0, 2, 0, 1, 0, 1, 2, 0, 7, 5, 7, 1, 1, 2, 1, 7,\n",
       "       1, 2, 7, 1, 2, 7, 2, 2, 5, 5, 1, 5, 2, 0, 5, 5, 2], dtype=int32)"
      ]
     },
     "execution_count": 20,
     "metadata": {},
     "output_type": "execute_result"
    }
   ],
   "source": [
    "clusters = []\n",
    "kmeans = clustering(n_clusters=8, random_state=0)\n",
    "kmeans.fit(clustering_df)\n",
    "labels = kmeans.labels_\n",
    "clusters = kmeans.cluster_centers_\n",
    "labels"
   ]
  },
  {
   "cell_type": "code",
   "execution_count": 21,
   "id": "da86ddde",
   "metadata": {},
   "outputs": [
    {
     "data": {
      "text/html": [
       "<div>\n",
       "<style scoped>\n",
       "    .dataframe tbody tr th:only-of-type {\n",
       "        vertical-align: middle;\n",
       "    }\n",
       "\n",
       "    .dataframe tbody tr th {\n",
       "        vertical-align: top;\n",
       "    }\n",
       "\n",
       "    .dataframe thead th {\n",
       "        text-align: right;\n",
       "    }\n",
       "</style>\n",
       "<table border=\"1\" class=\"dataframe\">\n",
       "  <thead>\n",
       "    <tr style=\"text-align: right;\">\n",
       "      <th></th>\n",
       "      <th>0</th>\n",
       "      <th>1</th>\n",
       "    </tr>\n",
       "  </thead>\n",
       "  <tbody>\n",
       "    <tr>\n",
       "      <th>0</th>\n",
       "      <td>258.689189</td>\n",
       "      <td>123.364865</td>\n",
       "    </tr>\n",
       "    <tr>\n",
       "      <th>1</th>\n",
       "      <td>210.788732</td>\n",
       "      <td>121.197183</td>\n",
       "    </tr>\n",
       "    <tr>\n",
       "      <th>2</th>\n",
       "      <td>229.800000</td>\n",
       "      <td>147.020000</td>\n",
       "    </tr>\n",
       "    <tr>\n",
       "      <th>3</th>\n",
       "      <td>564.000000</td>\n",
       "      <td>115.000000</td>\n",
       "    </tr>\n",
       "    <tr>\n",
       "      <th>4</th>\n",
       "      <td>397.400000</td>\n",
       "      <td>144.800000</td>\n",
       "    </tr>\n",
       "    <tr>\n",
       "      <th>5</th>\n",
       "      <td>171.411765</td>\n",
       "      <td>129.852941</td>\n",
       "    </tr>\n",
       "    <tr>\n",
       "      <th>6</th>\n",
       "      <td>287.115385</td>\n",
       "      <td>160.961538</td>\n",
       "    </tr>\n",
       "    <tr>\n",
       "      <th>7</th>\n",
       "      <td>313.690476</td>\n",
       "      <td>127.571429</td>\n",
       "    </tr>\n",
       "  </tbody>\n",
       "</table>\n",
       "</div>"
      ],
      "text/plain": [
       "            0           1\n",
       "0  258.689189  123.364865\n",
       "1  210.788732  121.197183\n",
       "2  229.800000  147.020000\n",
       "3  564.000000  115.000000\n",
       "4  397.400000  144.800000\n",
       "5  171.411765  129.852941\n",
       "6  287.115385  160.961538\n",
       "7  313.690476  127.571429"
      ]
     },
     "execution_count": 21,
     "metadata": {},
     "output_type": "execute_result"
    }
   ],
   "source": [
    "clusters_df = pd.DataFrame(clusters)\n",
    "clusters_df"
   ]
  },
  {
   "cell_type": "code",
   "execution_count": 22,
   "id": "8bf9b298",
   "metadata": {},
   "outputs": [],
   "source": [
    "sns.set_style(\"whitegrid\")"
   ]
  },
  {
   "cell_type": "code",
   "execution_count": 23,
   "id": "304bb909",
   "metadata": {},
   "outputs": [
    {
     "data": {
      "image/png": "[encoded data removed]",
      "text/plain": [
       "<Figure size 432x288 with 1 Axes>"
      ]
     },
     "metadata": {},
     "output_type": "display_data"
    }
   ],
   "source": [
    "_ = plt.scatter(df['chol'],df['trestbps'])\n",
    "_ = plt.scatter(clusters_df[0],clusters_df[1])"
   ]
  },
  {
   "cell_type": "markdown",
   "id": "b4c4ff19",
   "metadata": {},
   "source": [
    "# Binary classification "
   ]
  },
  {
   "cell_type": "markdown",
   "id": "c4bc134b",
   "metadata": {},
   "source": [
    "Let's see if we can indentify what patients are suffering from heart disease based on a binary calssification model "
   ]
  },
  {
   "cell_type": "code",
   "execution_count": 27,
   "id": "2a1990dc",
   "metadata": {},
   "outputs": [
    {
     "data": {
      "text/plain": [
       "<matplotlib.collections.PathCollection at 0x7fbc78196820>"
      ]
     },
     "execution_count": 27,
     "metadata": {},
     "output_type": "execute_result"
    },
    {
     "data": {
      "image/png": "[encoded data removed]",
      "text/plain": [
       "<Figure size 432x288 with 1 Axes>"
      ]
     },
     "metadata": {},
     "output_type": "display_data"
    }
   ],
   "source": [
    "plt.scatter(df['trestbps'],df['oldpeak'])"
   ]
  },
  {
   "cell_type": "code",
   "execution_count": null,
   "id": "3500528a",
   "metadata": {},
   "outputs": [],
   "source": []
  }
 ],
 "metadata": {
  "kernelspec": {
   "display_name": "Python 3",
   "language": "python",
   "name": "python3"
  },
  "language_info": {
   "codemirror_mode": {
    "name": "ipython",
    "version": 3
   },
   "file_extension": ".py",
   "mimetype": "text/x-python",
   "name": "python",
   "nbconvert_exporter": "python",
   "pygments_lexer": "ipython3",
   "version": "3.8.8"
  }
 },
 "nbformat": 4,
 "nbformat_minor": 5
}
